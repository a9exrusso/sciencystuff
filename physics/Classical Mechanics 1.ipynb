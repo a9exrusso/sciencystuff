{
 "cells": [
  {
   "cell_type": "markdown",
   "id": "294b3c88",
   "metadata": {},
   "source": [
    "- Every operation has one 1 in and 1 out arrow \n",
    "- NO reason why a state is not infinite\n",
    "- a system never loses it's information in classical mechanics \n",
    "- F = m*a\n",
    "- F = m*v \n",
    "- Force = mass * velocity\n",
    "\n",
    "f(x) =m (dx/dt) = x dot\n",
    "\n",
    "if we now the position of a particle at two times we can calculate it's next position. or the position and it's velocity\n",
    "\n",
    "- is completely deterministic\n"
   ]
  }
 ],
 "metadata": {
  "kernelspec": {
   "display_name": "Python 3.8.10 64-bit",
   "language": "python",
   "name": "python3810jvsc74a57bd0916dbcbb3f70747c44a77c7bcd40155683ae19c65e1c03b4aa3499c5328201f1"
  },
  "language_info": {
   "codemirror_mode": {
    "name": "ipython",
    "version": 3
   },
   "file_extension": ".py",
   "mimetype": "text/x-python",
   "name": "python",
   "nbconvert_exporter": "python",
   "pygments_lexer": "ipython3",
   "version": "3.8.10"
  }
 },
 "nbformat": 4,
 "nbformat_minor": 5
}
