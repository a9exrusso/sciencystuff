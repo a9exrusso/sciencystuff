{
 "cells": [
  {
   "cell_type": "code",
   "execution_count": 17,
   "metadata": {},
   "outputs": [],
   "source": [
    "import pandas \n",
    "import requests\n",
    "import chess.pgn\n",
    "import json\n",
    "import dash"
   ]
  },
  {
   "cell_type": "code",
   "execution_count": null,
   "metadata": {},
   "outputs": [],
   "source": [
    "def get_data(username,timestamp):\n",
    "    url = f\"http://lichess.org/api/games/user/{username}?since={timestamp}\"\n",
    "    data = requests.get(url)\n",
    "    if data.status_code != 200:\n",
    "        raise Exception(\"The following response was returned: \" + str(data.status_code))\n",
    "    else:\n",
    "        data = json.loads(data.text)\n",
    "        games = data[\"games\"]"
   ]
  },
  {
   "cell_type": "code",
   "execution_count": null,
   "metadata": {},
   "outputs": [],
   "source": [
    "games = get_data(\"lonaya\",\"1590969600000\")"
   ]
  },
  {
   "cell_type": "code",
   "execution_count": null,
   "metadata": {},
   "outputs": [],
   "source": [
    "all_games=[]\n",
    "    for game in games:\n",
    "        pgn = (game['pgn'])\n",
    "        pgn = io.StringIO(pgn)\n",
    "        game = chess.pgn.read_game(pgn)\n",
    "        all_games.append(game)"
   ]
  },
  {
   "cell_type": "code",
   "execution_count": null,
   "metadata": {},
   "outputs": [],
   "source": []
  },
  {
   "cell_type": "code",
   "execution_count": null,
   "metadata": {},
   "outputs": [],
   "source": []
  }
 ],
 "metadata": {
  "kernelspec": {
   "display_name": "Python 3",
   "language": "python",
   "name": "python3"
  },
  "language_info": {
   "codemirror_mode": {
    "name": "ipython",
    "version": 3
   },
   "file_extension": ".py",
   "mimetype": "text/x-python",
   "name": "python",
   "nbconvert_exporter": "python",
   "pygments_lexer": "ipython3",
   "version": "3.8.10"
  }
 },
 "nbformat": 4,
 "nbformat_minor": 4
}
