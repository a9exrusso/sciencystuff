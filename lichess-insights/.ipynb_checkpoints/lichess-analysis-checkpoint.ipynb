{
 "cells": [
  {
   "cell_type": "code",
   "execution_count": null,
   "metadata": {},
   "outputs": [],
   "source": [
    "# Import libs\n",
    "from dataclasses import dataclass\n",
    "import pandas as pd\n",
    "from pandas.core.base import DataError\n",
    "import requests\n",
    "import chess.pgn\n",
    "import chess"
   ]
  },
  {
   "cell_type": "code",
   "execution_count": 1,
   "metadata": {},
   "outputs": [],
   "source": [
    "def get_data(username,timestamp):\n",
    "    # Get the data from the API\n",
    "    print(\"Getting data from API...\")\n",
    "    url = f\"http://lichess.org/api/games/user/{username}?since={timestamp}\"\n",
    "    data = requests.get(url)\n",
    "    if data.status_code != 200:\n",
    "        raise Exception(\"The following response was returned: \" + str(data.status_code))\n",
    "    else:\n",
    "        print(\"Successfully retrieved data\")\n",
    "        # Write data to file\n",
    "        with open(\"data.pgn\", \"w\") as f:\n",
    "            f.write(data.text)\n",
    "\n",
    "def pgn_to_df(pgn_file):\n",
    "    totalkeyerrors = 0\n",
    "    print(\"Converting pgn file to dataframe...\")\n",
    "    pgn = open(pgn_file)\n",
    "    game = chess.pgn.read_game(pgn)\n",
    "\n",
    "    print(game)\n",
    "    df = pd.DataFrame(columns=[\"Event\",\"Site\",\"Date\",\"White\",\"Black\",\"Result\",\"UTCDate\",\"UTCTime\",\"WhiteElo\",\"BlackElo\",\"WhiteRatingDiff\",\"BlackRatingDiff\",\"Variant\",\"TimeControl\",\"ECO\",\"Termination\",\"FEN\",\"SetUp\"])\n",
    "    f = open(\"data.pgn\", \"r\")\n",
    "    game_list = []\n",
    "    while True:\n",
    "        game = chess.pgn.read_game(f)\n",
    "        if game is None:\n",
    "            break\n",
    "        game_list.append(game)\n",
    "\n",
    "    for game in game_list:\n",
    "        try:\n",
    "            df = df.append({\"Event\":game.headers[\"Event\"],\"Site\":game.headers[\"Site\"],\"Date\":game.headers[\"Date\"],\"White\":game.headers[\"White\"],\"Black\":game.headers[\"Black\"],\"Result\":game.headers[\"Result\"],\"UTCDate\":game.headers[\"UTCDate\"],\"UTCTime\":game.headers[\"UTCTime\"],\"WhiteElo\":game.headers[\"WhiteElo\"],\"BlackElo\":game.headers[\"BlackElo\"],\"WhiteRatingDiff\":game.headers[\"WhiteRatingDiff\"],\"BlackRatingDiff\":game.headers[\"BlackRatingDiff\"],\"Variant\":game.headers[\"Variant\"],\"TimeControl\":game.headers[\"TimeControl\"],\"ECO\":game.headers[\"ECO\"],\"Termination\":game.headers[\"Termination\"],\"FEN\":game.headers[\"FEN\"],\"SetUp\":game.headers[\"SetUp\"]},ignore_index=True)\n",
    "\n",
    "        except KeyError:\n",
    "            #print(KeyError)\n",
    "            totalkeyerrors += 1\n",
    "        except DataError:\n",
    "            print(\"DataError\")\n",
    "        game = chess.pgn.read_game(pgn)\n",
    "    print(\"Total keyErrors: \" + str(totalkeyerrors))\n",
    "    return df"
   ]
  },
  {
   "cell_type": "code",
   "execution_count": null,
   "metadata": {},
   "outputs": [],
   "source": [
    "# Get data from the player second argument is a unix timestamp\n",
    "get_data(\"lonaya\",\"1639554963\")\n",
    "# Look at our dataframe\n",
    "df1 = pgn_to_df(\"data.pgn\")\n",
    "print(df1)"
   ]
  }
 ],
 "metadata": {
  "kernelspec": {
   "display_name": "Python 3",
   "language": "python",
   "name": "python3"
  },
  "language_info": {
   "codemirror_mode": {
    "name": "ipython",
    "version": 3
   },
   "file_extension": ".py",
   "mimetype": "text/x-python",
   "name": "python",
   "nbconvert_exporter": "python",
   "pygments_lexer": "ipython3",
   "version": "3.8.10"
  }
 },
 "nbformat": 4,
 "nbformat_minor": 4
}
